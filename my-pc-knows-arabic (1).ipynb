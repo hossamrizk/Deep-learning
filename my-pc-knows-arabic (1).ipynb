{
 "cells": [
  {
   "cell_type": "markdown",
   "id": "5d7ad62e",
   "metadata": {
    "papermill": {
     "duration": 0.007709,
     "end_time": "2022-10-23T18:51:36.792290",
     "exception": false,
     "start_time": "2022-10-23T18:51:36.784581",
     "status": "completed"
    },
    "tags": []
   },
   "source": [
    "# Imports"
   ]
  },
  {
   "cell_type": "code",
   "execution_count": 1,
   "id": "95a4f395",
   "metadata": {
    "execution": {
     "iopub.execute_input": "2022-10-23T18:51:36.812553Z",
     "iopub.status.busy": "2022-10-23T18:51:36.812090Z",
     "iopub.status.idle": "2022-10-23T18:51:43.161652Z",
     "shell.execute_reply": "2022-10-23T18:51:43.160382Z"
    },
    "papermill": {
     "duration": 6.359729,
     "end_time": "2022-10-23T18:51:43.164297",
     "exception": false,
     "start_time": "2022-10-23T18:51:36.804568",
     "status": "completed"
    },
    "tags": []
   },
   "outputs": [],
   "source": [
    "# Handel files\n",
    "import pandas as pd\n",
    "import os\n",
    "import numpy as np\n",
    "# Virsualization\n",
    "import matplotlib.pyplot as plt\n",
    "\n",
    "# Data Augmentation\n",
    "from tensorflow.keras.preprocessing.image import ImageDataGenerator\n",
    "\n",
    "# Callbacks\n",
    "from tensorflow.keras.callbacks import ReduceLROnPlateau, EarlyStopping\n",
    "\n",
    "# Model\n",
    "from tensorflow.keras.models import Sequential\n",
    "from tensorflow.keras.layers import Dense,Flatten,Conv2D,Dropout,GlobalAveragePooling2D, MaxPooling2D\n",
    "from keras.utils.np_utils import to_categorical"
   ]
  },
  {
   "cell_type": "markdown",
   "id": "02871ee5",
   "metadata": {
    "papermill": {
     "duration": 0.00574,
     "end_time": "2022-10-23T18:51:43.176432",
     "exception": false,
     "start_time": "2022-10-23T18:51:43.170692",
     "status": "completed"
    },
    "tags": []
   },
   "source": [
    "# Load Data"
   ]
  },
  {
   "cell_type": "code",
   "execution_count": 2,
   "id": "a16f04b8",
   "metadata": {
    "execution": {
     "iopub.execute_input": "2022-10-23T18:51:43.191141Z",
     "iopub.status.busy": "2022-10-23T18:51:43.189896Z",
     "iopub.status.idle": "2022-10-23T18:51:44.677028Z",
     "shell.execute_reply": "2022-10-23T18:51:44.676089Z"
    },
    "papermill": {
     "duration": 1.497018,
     "end_time": "2022-10-23T18:51:44.679616",
     "exception": false,
     "start_time": "2022-10-23T18:51:43.182598",
     "status": "completed"
    },
    "tags": []
   },
   "outputs": [],
   "source": [
    "# import Data\n",
    "X_train=pd.read_csv('/kaggle/input/ahcd1/csvTrainImages 13440x1024.csv').to_numpy()\n",
    "y_train=pd.read_csv('/kaggle/input/ahcd1/csvTrainLabel 13440x1.csv').to_numpy()-1\n",
    "X_test=pd.read_csv('/kaggle/input/ahcd1/csvTestImages 3360x1024.csv').to_numpy()\n",
    "y_test=pd.read_csv('/kaggle/input/ahcd1/csvTestLabel 3360x1.csv').to_numpy()-1"
   ]
  },
  {
   "cell_type": "code",
   "execution_count": 3,
   "id": "5cb95d4a",
   "metadata": {
    "execution": {
     "iopub.execute_input": "2022-10-23T18:51:44.694237Z",
     "iopub.status.busy": "2022-10-23T18:51:44.693321Z",
     "iopub.status.idle": "2022-10-23T18:51:44.701431Z",
     "shell.execute_reply": "2022-10-23T18:51:44.700234Z"
    },
    "papermill": {
     "duration": 0.017688,
     "end_time": "2022-10-23T18:51:44.703747",
     "exception": false,
     "start_time": "2022-10-23T18:51:44.686059",
     "status": "completed"
    },
    "tags": []
   },
   "outputs": [
    {
     "name": "stdout",
     "output_type": "stream",
     "text": [
      "X_train shape is  (13439, 1024)\n",
      "X_test shape is  (3359, 1024)\n",
      "y_train shape is  (13439, 1)\n",
      "y_train shape is  (3359, 1)\n"
     ]
    }
   ],
   "source": [
    "# Shape of data\n",
    "print('X_train shape is ',X_train.shape)\n",
    "print('X_test shape is ',X_test.shape)\n",
    "print('y_train shape is ',y_train.shape)\n",
    "print('y_train shape is ',y_test.shape)"
   ]
  },
  {
   "cell_type": "code",
   "execution_count": 4,
   "id": "530bae83",
   "metadata": {
    "execution": {
     "iopub.execute_input": "2022-10-23T18:51:44.717370Z",
     "iopub.status.busy": "2022-10-23T18:51:44.717077Z",
     "iopub.status.idle": "2022-10-23T18:51:44.721934Z",
     "shell.execute_reply": "2022-10-23T18:51:44.720983Z"
    },
    "papermill": {
     "duration": 0.013667,
     "end_time": "2022-10-23T18:51:44.723858",
     "exception": false,
     "start_time": "2022-10-23T18:51:44.710191",
     "status": "completed"
    },
    "tags": []
   },
   "outputs": [],
   "source": [
    "# Reshape\n",
    "X_train = X_train.reshape(-1,32,32,1)\n",
    "X_test = X_test.reshape(-1,32,32,1)"
   ]
  },
  {
   "cell_type": "code",
   "execution_count": 5,
   "id": "54331e1d",
   "metadata": {
    "execution": {
     "iopub.execute_input": "2022-10-23T18:51:44.737539Z",
     "iopub.status.busy": "2022-10-23T18:51:44.737282Z",
     "iopub.status.idle": "2022-10-23T18:51:44.744839Z",
     "shell.execute_reply": "2022-10-23T18:51:44.743950Z"
    },
    "papermill": {
     "duration": 0.016686,
     "end_time": "2022-10-23T18:51:44.746736",
     "exception": false,
     "start_time": "2022-10-23T18:51:44.730050",
     "status": "completed"
    },
    "tags": []
   },
   "outputs": [
    {
     "data": {
      "text/plain": [
       "(13439, 32, 32, 1)"
      ]
     },
     "execution_count": 5,
     "metadata": {},
     "output_type": "execute_result"
    }
   ],
   "source": [
    "X_train.shape"
   ]
  },
  {
   "cell_type": "code",
   "execution_count": 6,
   "id": "e9163a5e",
   "metadata": {
    "execution": {
     "iopub.execute_input": "2022-10-23T18:51:44.760737Z",
     "iopub.status.busy": "2022-10-23T18:51:44.760454Z",
     "iopub.status.idle": "2022-10-23T18:51:44.767808Z",
     "shell.execute_reply": "2022-10-23T18:51:44.766974Z"
    },
    "papermill": {
     "duration": 0.017214,
     "end_time": "2022-10-23T18:51:44.769912",
     "exception": false,
     "start_time": "2022-10-23T18:51:44.752698",
     "status": "completed"
    },
    "tags": []
   },
   "outputs": [
    {
     "data": {
      "text/plain": [
       "(3359, 32, 32, 1)"
      ]
     },
     "execution_count": 6,
     "metadata": {},
     "output_type": "execute_result"
    }
   ],
   "source": [
    "X_test.shape"
   ]
  },
  {
   "cell_type": "code",
   "execution_count": 7,
   "id": "fb3989e9",
   "metadata": {
    "execution": {
     "iopub.execute_input": "2022-10-23T18:51:44.783047Z",
     "iopub.status.busy": "2022-10-23T18:51:44.782774Z",
     "iopub.status.idle": "2022-10-23T18:51:44.788262Z",
     "shell.execute_reply": "2022-10-23T18:51:44.787341Z"
    },
    "papermill": {
     "duration": 0.014542,
     "end_time": "2022-10-23T18:51:44.790346",
     "exception": false,
     "start_time": "2022-10-23T18:51:44.775804",
     "status": "completed"
    },
    "tags": []
   },
   "outputs": [
    {
     "data": {
      "text/plain": [
       "(13439, 1)"
      ]
     },
     "execution_count": 7,
     "metadata": {},
     "output_type": "execute_result"
    }
   ],
   "source": [
    "y_train.shape"
   ]
  },
  {
   "cell_type": "code",
   "execution_count": 8,
   "id": "826b4b17",
   "metadata": {
    "execution": {
     "iopub.execute_input": "2022-10-23T18:51:44.803878Z",
     "iopub.status.busy": "2022-10-23T18:51:44.803611Z",
     "iopub.status.idle": "2022-10-23T18:51:44.808959Z",
     "shell.execute_reply": "2022-10-23T18:51:44.808073Z"
    },
    "papermill": {
     "duration": 0.01468,
     "end_time": "2022-10-23T18:51:44.811050",
     "exception": false,
     "start_time": "2022-10-23T18:51:44.796370",
     "status": "completed"
    },
    "tags": []
   },
   "outputs": [
    {
     "data": {
      "text/plain": [
       "(3359, 1)"
      ]
     },
     "execution_count": 8,
     "metadata": {},
     "output_type": "execute_result"
    }
   ],
   "source": [
    "y_test.shape"
   ]
  },
  {
   "cell_type": "code",
   "execution_count": 9,
   "id": "9be41350",
   "metadata": {
    "execution": {
     "iopub.execute_input": "2022-10-23T18:51:44.824616Z",
     "iopub.status.busy": "2022-10-23T18:51:44.824367Z",
     "iopub.status.idle": "2022-10-23T18:51:44.829898Z",
     "shell.execute_reply": "2022-10-23T18:51:44.828939Z"
    },
    "papermill": {
     "duration": 0.014818,
     "end_time": "2022-10-23T18:51:44.831827",
     "exception": false,
     "start_time": "2022-10-23T18:51:44.817009",
     "status": "completed"
    },
    "tags": []
   },
   "outputs": [],
   "source": [
    "y_train = to_categorical(y_train)\n",
    "y_test = to_categorical(y_test)"
   ]
  },
  {
   "cell_type": "code",
   "execution_count": 10,
   "id": "7c00ac28",
   "metadata": {
    "execution": {
     "iopub.execute_input": "2022-10-23T18:51:44.845048Z",
     "iopub.status.busy": "2022-10-23T18:51:44.844781Z",
     "iopub.status.idle": "2022-10-23T18:51:44.851975Z",
     "shell.execute_reply": "2022-10-23T18:51:44.851094Z"
    },
    "papermill": {
     "duration": 0.016366,
     "end_time": "2022-10-23T18:51:44.854136",
     "exception": false,
     "start_time": "2022-10-23T18:51:44.837770",
     "status": "completed"
    },
    "tags": []
   },
   "outputs": [
    {
     "data": {
      "text/plain": [
       "(13439, 28)"
      ]
     },
     "execution_count": 10,
     "metadata": {},
     "output_type": "execute_result"
    }
   ],
   "source": [
    "y_train.shape"
   ]
  },
  {
   "cell_type": "code",
   "execution_count": 11,
   "id": "46671eaf",
   "metadata": {
    "execution": {
     "iopub.execute_input": "2022-10-23T18:51:44.867957Z",
     "iopub.status.busy": "2022-10-23T18:51:44.867707Z",
     "iopub.status.idle": "2022-10-23T18:51:44.875285Z",
     "shell.execute_reply": "2022-10-23T18:51:44.874460Z"
    },
    "papermill": {
     "duration": 0.016362,
     "end_time": "2022-10-23T18:51:44.877176",
     "exception": false,
     "start_time": "2022-10-23T18:51:44.860814",
     "status": "completed"
    },
    "tags": []
   },
   "outputs": [
    {
     "data": {
      "text/plain": [
       "(3359, 28)"
      ]
     },
     "execution_count": 11,
     "metadata": {},
     "output_type": "execute_result"
    }
   ],
   "source": [
    "y_test.shape"
   ]
  },
  {
   "cell_type": "markdown",
   "id": "a0624c01",
   "metadata": {
    "papermill": {
     "duration": 0.006626,
     "end_time": "2022-10-23T18:51:44.890479",
     "exception": false,
     "start_time": "2022-10-23T18:51:44.883853",
     "status": "completed"
    },
    "tags": []
   },
   "source": [
    "# Data Augmentation"
   ]
  },
  {
   "cell_type": "code",
   "execution_count": 12,
   "id": "44122da2",
   "metadata": {
    "execution": {
     "iopub.execute_input": "2022-10-23T18:51:44.904759Z",
     "iopub.status.busy": "2022-10-23T18:51:44.904022Z",
     "iopub.status.idle": "2022-10-23T18:51:44.935435Z",
     "shell.execute_reply": "2022-10-23T18:51:44.934452Z"
    },
    "papermill": {
     "duration": 0.041624,
     "end_time": "2022-10-23T18:51:44.938328",
     "exception": false,
     "start_time": "2022-10-23T18:51:44.896704",
     "status": "completed"
    },
    "tags": []
   },
   "outputs": [],
   "source": [
    "# Data Augmentation\n",
    "gen=ImageDataGenerator(\n",
    "    rescale=1.0/255.0,\n",
    "    zoom_range=0.3\n",
    ")\n",
    "train_data=gen.flow(\n",
    "    X_train,\n",
    "    y_train,\n",
    ")"
   ]
  },
  {
   "cell_type": "markdown",
   "id": "abd6c6c4",
   "metadata": {
    "papermill": {
     "duration": 0.006476,
     "end_time": "2022-10-23T18:51:44.951654",
     "exception": false,
     "start_time": "2022-10-23T18:51:44.945178",
     "status": "completed"
    },
    "tags": []
   },
   "source": [
    "# Model"
   ]
  },
  {
   "cell_type": "code",
   "execution_count": 13,
   "id": "f35fce6f",
   "metadata": {
    "execution": {
     "iopub.execute_input": "2022-10-23T18:51:44.966140Z",
     "iopub.status.busy": "2022-10-23T18:51:44.965796Z",
     "iopub.status.idle": "2022-10-23T18:51:49.341711Z",
     "shell.execute_reply": "2022-10-23T18:51:49.340551Z"
    },
    "papermill": {
     "duration": 4.386382,
     "end_time": "2022-10-23T18:51:49.344457",
     "exception": false,
     "start_time": "2022-10-23T18:51:44.958075",
     "status": "completed"
    },
    "tags": []
   },
   "outputs": [
    {
     "name": "stderr",
     "output_type": "stream",
     "text": [
      "2022-10-23 18:51:45.117421: I tensorflow/stream_executor/cuda/cuda_gpu_executor.cc:937] successful NUMA node read from SysFS had negative value (-1), but there must be at least one NUMA node, so returning NUMA node zero\n",
      "2022-10-23 18:51:45.118382: I tensorflow/stream_executor/cuda/cuda_gpu_executor.cc:937] successful NUMA node read from SysFS had negative value (-1), but there must be at least one NUMA node, so returning NUMA node zero\n",
      "2022-10-23 18:51:45.263535: I tensorflow/stream_executor/cuda/cuda_gpu_executor.cc:937] successful NUMA node read from SysFS had negative value (-1), but there must be at least one NUMA node, so returning NUMA node zero\n",
      "2022-10-23 18:51:45.264414: I tensorflow/stream_executor/cuda/cuda_gpu_executor.cc:937] successful NUMA node read from SysFS had negative value (-1), but there must be at least one NUMA node, so returning NUMA node zero\n",
      "2022-10-23 18:51:45.265364: I tensorflow/stream_executor/cuda/cuda_gpu_executor.cc:937] successful NUMA node read from SysFS had negative value (-1), but there must be at least one NUMA node, so returning NUMA node zero\n",
      "2022-10-23 18:51:45.266192: I tensorflow/stream_executor/cuda/cuda_gpu_executor.cc:937] successful NUMA node read from SysFS had negative value (-1), but there must be at least one NUMA node, so returning NUMA node zero\n",
      "2022-10-23 18:51:45.267565: I tensorflow/core/platform/cpu_feature_guard.cc:142] This TensorFlow binary is optimized with oneAPI Deep Neural Network Library (oneDNN) to use the following CPU instructions in performance-critical operations:  AVX2 AVX512F FMA\n",
      "To enable them in other operations, rebuild TensorFlow with the appropriate compiler flags.\n",
      "2022-10-23 18:51:45.503815: I tensorflow/stream_executor/cuda/cuda_gpu_executor.cc:937] successful NUMA node read from SysFS had negative value (-1), but there must be at least one NUMA node, so returning NUMA node zero\n",
      "2022-10-23 18:51:45.504667: I tensorflow/stream_executor/cuda/cuda_gpu_executor.cc:937] successful NUMA node read from SysFS had negative value (-1), but there must be at least one NUMA node, so returning NUMA node zero\n",
      "2022-10-23 18:51:45.505425: I tensorflow/stream_executor/cuda/cuda_gpu_executor.cc:937] successful NUMA node read from SysFS had negative value (-1), but there must be at least one NUMA node, so returning NUMA node zero\n",
      "2022-10-23 18:51:45.506145: I tensorflow/stream_executor/cuda/cuda_gpu_executor.cc:937] successful NUMA node read from SysFS had negative value (-1), but there must be at least one NUMA node, so returning NUMA node zero\n",
      "2022-10-23 18:51:45.506810: I tensorflow/stream_executor/cuda/cuda_gpu_executor.cc:937] successful NUMA node read from SysFS had negative value (-1), but there must be at least one NUMA node, so returning NUMA node zero\n",
      "2022-10-23 18:51:45.507485: I tensorflow/stream_executor/cuda/cuda_gpu_executor.cc:937] successful NUMA node read from SysFS had negative value (-1), but there must be at least one NUMA node, so returning NUMA node zero\n",
      "2022-10-23 18:51:48.884089: I tensorflow/stream_executor/cuda/cuda_gpu_executor.cc:937] successful NUMA node read from SysFS had negative value (-1), but there must be at least one NUMA node, so returning NUMA node zero\n",
      "2022-10-23 18:51:48.885027: I tensorflow/stream_executor/cuda/cuda_gpu_executor.cc:937] successful NUMA node read from SysFS had negative value (-1), but there must be at least one NUMA node, so returning NUMA node zero\n",
      "2022-10-23 18:51:48.885822: I tensorflow/stream_executor/cuda/cuda_gpu_executor.cc:937] successful NUMA node read from SysFS had negative value (-1), but there must be at least one NUMA node, so returning NUMA node zero\n",
      "2022-10-23 18:51:48.886696: I tensorflow/stream_executor/cuda/cuda_gpu_executor.cc:937] successful NUMA node read from SysFS had negative value (-1), but there must be at least one NUMA node, so returning NUMA node zero\n",
      "2022-10-23 18:51:48.887524: I tensorflow/stream_executor/cuda/cuda_gpu_executor.cc:937] successful NUMA node read from SysFS had negative value (-1), but there must be at least one NUMA node, so returning NUMA node zero\n",
      "2022-10-23 18:51:48.888243: I tensorflow/core/common_runtime/gpu/gpu_device.cc:1510] Created device /job:localhost/replica:0/task:0/device:GPU:0 with 13789 MB memory:  -> device: 0, name: Tesla T4, pci bus id: 0000:00:04.0, compute capability: 7.5\n",
      "2022-10-23 18:51:48.892139: I tensorflow/stream_executor/cuda/cuda_gpu_executor.cc:937] successful NUMA node read from SysFS had negative value (-1), but there must be at least one NUMA node, so returning NUMA node zero\n",
      "2022-10-23 18:51:48.892807: I tensorflow/core/common_runtime/gpu/gpu_device.cc:1510] Created device /job:localhost/replica:0/task:0/device:GPU:1 with 13789 MB memory:  -> device: 1, name: Tesla T4, pci bus id: 0000:00:05.0, compute capability: 7.5\n"
     ]
    }
   ],
   "source": [
    "model = Sequential([\n",
    "    Conv2D(32, 3, padding='same', activation='relu', input_shape=(32,32,1)),\n",
    "    MaxPooling2D(2,2),\n",
    "    Conv2D(64, 3, padding='same', activation='relu'),\n",
    "    MaxPooling2D(2,2),\n",
    "    Conv2D(128, 3, padding='same', activation='relu'),\n",
    "    MaxPooling2D(2,2),\n",
    "    Conv2D(64, 3, padding='same', activation='relu'),\n",
    "    MaxPooling2D(2,2),\n",
    "    Flatten(),\n",
    "    Dense(128, activation='relu'),\n",
    "    Dense(256, activation='relu'),\n",
    "    Dense(28, activation='softmax')\n",
    "])\n"
   ]
  },
  {
   "cell_type": "markdown",
   "id": "aba0ce67",
   "metadata": {
    "papermill": {
     "duration": 0.007132,
     "end_time": "2022-10-23T18:51:49.359108",
     "exception": false,
     "start_time": "2022-10-23T18:51:49.351976",
     "status": "completed"
    },
    "tags": []
   },
   "source": [
    "# Callbacks"
   ]
  },
  {
   "cell_type": "code",
   "execution_count": 14,
   "id": "3236f0b3",
   "metadata": {
    "execution": {
     "iopub.execute_input": "2022-10-23T18:51:49.376279Z",
     "iopub.status.busy": "2022-10-23T18:51:49.374504Z",
     "iopub.status.idle": "2022-10-23T18:51:49.380520Z",
     "shell.execute_reply": "2022-10-23T18:51:49.379097Z"
    },
    "papermill": {
     "duration": 0.016435,
     "end_time": "2022-10-23T18:51:49.382599",
     "exception": false,
     "start_time": "2022-10-23T18:51:49.366164",
     "status": "completed"
    },
    "tags": []
   },
   "outputs": [],
   "source": [
    "reduce=ReduceLROnPlateau(\n",
    "    factor=0.1,\n",
    "    min_lr=0.00001\n",
    ")"
   ]
  },
  {
   "cell_type": "code",
   "execution_count": 15,
   "id": "2d3395cc",
   "metadata": {
    "execution": {
     "iopub.execute_input": "2022-10-23T18:51:49.397637Z",
     "iopub.status.busy": "2022-10-23T18:51:49.397337Z",
     "iopub.status.idle": "2022-10-23T18:51:49.402614Z",
     "shell.execute_reply": "2022-10-23T18:51:49.401055Z"
    },
    "papermill": {
     "duration": 0.015291,
     "end_time": "2022-10-23T18:51:49.404649",
     "exception": false,
     "start_time": "2022-10-23T18:51:49.389358",
     "status": "completed"
    },
    "tags": []
   },
   "outputs": [],
   "source": [
    "callbacks=[reduce]"
   ]
  },
  {
   "cell_type": "code",
   "execution_count": 16,
   "id": "72530eb7",
   "metadata": {
    "execution": {
     "iopub.execute_input": "2022-10-23T18:51:49.419904Z",
     "iopub.status.busy": "2022-10-23T18:51:49.419126Z",
     "iopub.status.idle": "2022-10-23T18:51:49.580644Z",
     "shell.execute_reply": "2022-10-23T18:51:49.579505Z"
    },
    "papermill": {
     "duration": 0.171647,
     "end_time": "2022-10-23T18:51:49.583200",
     "exception": false,
     "start_time": "2022-10-23T18:51:49.411553",
     "status": "completed"
    },
    "tags": []
   },
   "outputs": [],
   "source": [
    "model.compile(\n",
    "    optimizer='adam',\n",
    "    loss='categorical_crossentropy',\n",
    "    metrics=['accuracy']\n",
    ")"
   ]
  },
  {
   "cell_type": "code",
   "execution_count": 17,
   "id": "88f6ba0b",
   "metadata": {
    "execution": {
     "iopub.execute_input": "2022-10-23T18:51:49.600389Z",
     "iopub.status.busy": "2022-10-23T18:51:49.598451Z",
     "iopub.status.idle": "2022-10-23T18:51:49.607167Z",
     "shell.execute_reply": "2022-10-23T18:51:49.605998Z"
    },
    "papermill": {
     "duration": 0.018864,
     "end_time": "2022-10-23T18:51:49.609459",
     "exception": false,
     "start_time": "2022-10-23T18:51:49.590595",
     "status": "completed"
    },
    "tags": []
   },
   "outputs": [
    {
     "name": "stdout",
     "output_type": "stream",
     "text": [
      "Model: \"sequential\"\n",
      "_________________________________________________________________\n",
      "Layer (type)                 Output Shape              Param #   \n",
      "=================================================================\n",
      "conv2d (Conv2D)              (None, 32, 32, 32)        320       \n",
      "_________________________________________________________________\n",
      "max_pooling2d (MaxPooling2D) (None, 16, 16, 32)        0         \n",
      "_________________________________________________________________\n",
      "conv2d_1 (Conv2D)            (None, 16, 16, 64)        18496     \n",
      "_________________________________________________________________\n",
      "max_pooling2d_1 (MaxPooling2 (None, 8, 8, 64)          0         \n",
      "_________________________________________________________________\n",
      "conv2d_2 (Conv2D)            (None, 8, 8, 128)         73856     \n",
      "_________________________________________________________________\n",
      "max_pooling2d_2 (MaxPooling2 (None, 4, 4, 128)         0         \n",
      "_________________________________________________________________\n",
      "conv2d_3 (Conv2D)            (None, 4, 4, 64)          73792     \n",
      "_________________________________________________________________\n",
      "max_pooling2d_3 (MaxPooling2 (None, 2, 2, 64)          0         \n",
      "_________________________________________________________________\n",
      "flatten (Flatten)            (None, 256)               0         \n",
      "_________________________________________________________________\n",
      "dense (Dense)                (None, 128)               32896     \n",
      "_________________________________________________________________\n",
      "dense_1 (Dense)              (None, 256)               33024     \n",
      "_________________________________________________________________\n",
      "dense_2 (Dense)              (None, 28)                7196      \n",
      "=================================================================\n",
      "Total params: 239,580\n",
      "Trainable params: 239,580\n",
      "Non-trainable params: 0\n",
      "_________________________________________________________________\n"
     ]
    }
   ],
   "source": [
    "model.summary()"
   ]
  },
  {
   "cell_type": "markdown",
   "id": "f49d75e9",
   "metadata": {
    "papermill": {
     "duration": 0.006765,
     "end_time": "2022-10-23T18:51:49.623076",
     "exception": false,
     "start_time": "2022-10-23T18:51:49.616311",
     "status": "completed"
    },
    "tags": []
   },
   "source": [
    "# Fiting"
   ]
  },
  {
   "cell_type": "code",
   "execution_count": 18,
   "id": "5ec491c3",
   "metadata": {
    "execution": {
     "iopub.execute_input": "2022-10-23T18:51:49.638861Z",
     "iopub.status.busy": "2022-10-23T18:51:49.638599Z",
     "iopub.status.idle": "2022-10-23T18:54:47.821686Z",
     "shell.execute_reply": "2022-10-23T18:54:47.820679Z"
    },
    "papermill": {
     "duration": 178.193491,
     "end_time": "2022-10-23T18:54:47.823911",
     "exception": false,
     "start_time": "2022-10-23T18:51:49.630420",
     "status": "completed"
    },
    "tags": []
   },
   "outputs": [
    {
     "name": "stdout",
     "output_type": "stream",
     "text": [
      "Epoch 1/30\n"
     ]
    },
    {
     "name": "stderr",
     "output_type": "stream",
     "text": [
      "2022-10-23 18:51:49.736869: I tensorflow/compiler/mlir/mlir_graph_optimization_pass.cc:185] None of the MLIR Optimization Passes are enabled (registered 2)\n",
      "2022-10-23 18:51:52.024273: I tensorflow/stream_executor/cuda/cuda_dnn.cc:369] Loaded cuDNN version 8005\n"
     ]
    },
    {
     "name": "stdout",
     "output_type": "stream",
     "text": [
      "420/420 [==============================] - 16s 13ms/step - loss: 1.6126 - accuracy: 0.4693 - val_loss: 84.0974 - val_accuracy: 0.7425\n",
      "Epoch 2/30\n",
      "420/420 [==============================] - 5s 12ms/step - loss: 0.7060 - accuracy: 0.7514 - val_loss: 63.6786 - val_accuracy: 0.8541\n",
      "Epoch 3/30\n",
      "420/420 [==============================] - 5s 12ms/step - loss: 0.4821 - accuracy: 0.8335 - val_loss: 61.7196 - val_accuracy: 0.8869\n",
      "Epoch 4/30\n",
      "420/420 [==============================] - 5s 12ms/step - loss: 0.3697 - accuracy: 0.8714 - val_loss: 80.6317 - val_accuracy: 0.8607\n",
      "Epoch 5/30\n",
      "420/420 [==============================] - 6s 13ms/step - loss: 0.3045 - accuracy: 0.8971 - val_loss: 39.1828 - val_accuracy: 0.9244\n",
      "Epoch 6/30\n",
      "420/420 [==============================] - 5s 12ms/step - loss: 0.2607 - accuracy: 0.9127 - val_loss: 53.3839 - val_accuracy: 0.9169\n",
      "Epoch 7/30\n",
      "420/420 [==============================] - 5s 12ms/step - loss: 0.2287 - accuracy: 0.9237 - val_loss: 69.5630 - val_accuracy: 0.8991\n",
      "Epoch 8/30\n",
      "420/420 [==============================] - 5s 12ms/step - loss: 0.2129 - accuracy: 0.9304 - val_loss: 52.5178 - val_accuracy: 0.9274\n",
      "Epoch 9/30\n",
      "420/420 [==============================] - 5s 12ms/step - loss: 0.1962 - accuracy: 0.9341 - val_loss: 53.2518 - val_accuracy: 0.9149\n",
      "Epoch 10/30\n",
      "420/420 [==============================] - 5s 12ms/step - loss: 0.1712 - accuracy: 0.9420 - val_loss: 54.2730 - val_accuracy: 0.9214\n",
      "Epoch 11/30\n",
      "420/420 [==============================] - 6s 14ms/step - loss: 0.1597 - accuracy: 0.9475 - val_loss: 55.4984 - val_accuracy: 0.9333\n",
      "Epoch 12/30\n",
      "420/420 [==============================] - 5s 12ms/step - loss: 0.1491 - accuracy: 0.9493 - val_loss: 50.3171 - val_accuracy: 0.9360\n",
      "Epoch 13/30\n",
      "420/420 [==============================] - 5s 12ms/step - loss: 0.1343 - accuracy: 0.9553 - val_loss: 56.9667 - val_accuracy: 0.9286\n",
      "Epoch 14/30\n",
      "420/420 [==============================] - 5s 13ms/step - loss: 0.1296 - accuracy: 0.9562 - val_loss: 47.4034 - val_accuracy: 0.9381\n",
      "Epoch 15/30\n",
      "420/420 [==============================] - 5s 12ms/step - loss: 0.1187 - accuracy: 0.9612 - val_loss: 68.7434 - val_accuracy: 0.9187\n",
      "Epoch 16/30\n",
      "420/420 [==============================] - 6s 14ms/step - loss: 0.0674 - accuracy: 0.9783 - val_loss: 43.5390 - val_accuracy: 0.9539\n",
      "Epoch 17/30\n",
      "420/420 [==============================] - 5s 12ms/step - loss: 0.0536 - accuracy: 0.9818 - val_loss: 45.5934 - val_accuracy: 0.9547\n",
      "Epoch 18/30\n",
      "420/420 [==============================] - 5s 13ms/step - loss: 0.0479 - accuracy: 0.9849 - val_loss: 45.9534 - val_accuracy: 0.9512\n",
      "Epoch 19/30\n",
      "420/420 [==============================] - 5s 13ms/step - loss: 0.0419 - accuracy: 0.9869 - val_loss: 46.0867 - val_accuracy: 0.9562\n",
      "Epoch 20/30\n",
      "420/420 [==============================] - 5s 13ms/step - loss: 0.0389 - accuracy: 0.9884 - val_loss: 45.2957 - val_accuracy: 0.9574\n",
      "Epoch 21/30\n",
      "420/420 [==============================] - 6s 14ms/step - loss: 0.0375 - accuracy: 0.9871 - val_loss: 41.4707 - val_accuracy: 0.9619\n",
      "Epoch 22/30\n",
      "420/420 [==============================] - 5s 12ms/step - loss: 0.0371 - accuracy: 0.9882 - val_loss: 44.1137 - val_accuracy: 0.9583\n",
      "Epoch 23/30\n",
      "420/420 [==============================] - 5s 12ms/step - loss: 0.0318 - accuracy: 0.9888 - val_loss: 44.5456 - val_accuracy: 0.9607\n",
      "Epoch 24/30\n",
      "420/420 [==============================] - 5s 12ms/step - loss: 0.0338 - accuracy: 0.9891 - val_loss: 46.1522 - val_accuracy: 0.9559\n",
      "Epoch 25/30\n",
      "420/420 [==============================] - 5s 12ms/step - loss: 0.0289 - accuracy: 0.9910 - val_loss: 47.5887 - val_accuracy: 0.9598\n",
      "Epoch 26/30\n",
      "420/420 [==============================] - 5s 12ms/step - loss: 0.0247 - accuracy: 0.9926 - val_loss: 48.7978 - val_accuracy: 0.9595\n",
      "Epoch 27/30\n",
      "420/420 [==============================] - 6s 13ms/step - loss: 0.0247 - accuracy: 0.9919 - val_loss: 46.7204 - val_accuracy: 0.9604\n",
      "Epoch 28/30\n",
      "420/420 [==============================] - 5s 12ms/step - loss: 0.0230 - accuracy: 0.9932 - val_loss: 47.8844 - val_accuracy: 0.9592\n",
      "Epoch 29/30\n",
      "420/420 [==============================] - 5s 12ms/step - loss: 0.0257 - accuracy: 0.9911 - val_loss: 48.0049 - val_accuracy: 0.9595\n",
      "Epoch 30/30\n",
      "420/420 [==============================] - 5s 13ms/step - loss: 0.0262 - accuracy: 0.9920 - val_loss: 46.6828 - val_accuracy: 0.9598\n"
     ]
    },
    {
     "data": {
      "text/plain": [
       "<keras.callbacks.History at 0x7f4604685c10>"
      ]
     },
     "execution_count": 18,
     "metadata": {},
     "output_type": "execute_result"
    }
   ],
   "source": [
    "model.fit(\n",
    "    train_data,\n",
    "    epochs=30,\n",
    "    validation_data=(X_test,y_test),\n",
    "    callbacks=callbacks\n",
    "    \n",
    ")"
   ]
  },
  {
   "cell_type": "markdown",
   "id": "0fbe7f35",
   "metadata": {
    "papermill": {
     "duration": 0.152585,
     "end_time": "2022-10-23T18:54:48.122488",
     "exception": false,
     "start_time": "2022-10-23T18:54:47.969903",
     "status": "completed"
    },
    "tags": []
   },
   "source": [
    "# Accuracy"
   ]
  },
  {
   "cell_type": "code",
   "execution_count": 19,
   "id": "34e9b08c",
   "metadata": {
    "execution": {
     "iopub.execute_input": "2022-10-23T18:54:48.420392Z",
     "iopub.status.busy": "2022-10-23T18:54:48.420018Z",
     "iopub.status.idle": "2022-10-23T18:54:48.426821Z",
     "shell.execute_reply": "2022-10-23T18:54:48.425074Z"
    },
    "papermill": {
     "duration": 0.158194,
     "end_time": "2022-10-23T18:54:48.429298",
     "exception": false,
     "start_time": "2022-10-23T18:54:48.271104",
     "status": "completed"
    },
    "tags": []
   },
   "outputs": [],
   "source": [
    "losses=pd.DataFrame(model.history.history)"
   ]
  },
  {
   "cell_type": "code",
   "execution_count": 20,
   "id": "f25ce761",
   "metadata": {
    "execution": {
     "iopub.execute_input": "2022-10-23T18:54:48.779683Z",
     "iopub.status.busy": "2022-10-23T18:54:48.779280Z",
     "iopub.status.idle": "2022-10-23T18:54:48.803345Z",
     "shell.execute_reply": "2022-10-23T18:54:48.802091Z"
    },
    "papermill": {
     "duration": 0.229962,
     "end_time": "2022-10-23T18:54:48.806235",
     "exception": false,
     "start_time": "2022-10-23T18:54:48.576273",
     "status": "completed"
    },
    "tags": []
   },
   "outputs": [
    {
     "data": {
      "text/html": [
       "<div>\n",
       "<style scoped>\n",
       "    .dataframe tbody tr th:only-of-type {\n",
       "        vertical-align: middle;\n",
       "    }\n",
       "\n",
       "    .dataframe tbody tr th {\n",
       "        vertical-align: top;\n",
       "    }\n",
       "\n",
       "    .dataframe thead th {\n",
       "        text-align: right;\n",
       "    }\n",
       "</style>\n",
       "<table border=\"1\" class=\"dataframe\">\n",
       "  <thead>\n",
       "    <tr style=\"text-align: right;\">\n",
       "      <th></th>\n",
       "      <th>loss</th>\n",
       "      <th>accuracy</th>\n",
       "      <th>val_loss</th>\n",
       "      <th>val_accuracy</th>\n",
       "      <th>lr</th>\n",
       "    </tr>\n",
       "  </thead>\n",
       "  <tbody>\n",
       "    <tr>\n",
       "      <th>0</th>\n",
       "      <td>1.612617</td>\n",
       "      <td>0.469306</td>\n",
       "      <td>84.097404</td>\n",
       "      <td>0.742483</td>\n",
       "      <td>0.00100</td>\n",
       "    </tr>\n",
       "    <tr>\n",
       "      <th>1</th>\n",
       "      <td>0.706016</td>\n",
       "      <td>0.751395</td>\n",
       "      <td>63.678566</td>\n",
       "      <td>0.854123</td>\n",
       "      <td>0.00100</td>\n",
       "    </tr>\n",
       "    <tr>\n",
       "      <th>2</th>\n",
       "      <td>0.482103</td>\n",
       "      <td>0.833544</td>\n",
       "      <td>61.719627</td>\n",
       "      <td>0.886871</td>\n",
       "      <td>0.00100</td>\n",
       "    </tr>\n",
       "    <tr>\n",
       "      <th>3</th>\n",
       "      <td>0.369718</td>\n",
       "      <td>0.871419</td>\n",
       "      <td>80.631668</td>\n",
       "      <td>0.860673</td>\n",
       "      <td>0.00100</td>\n",
       "    </tr>\n",
       "    <tr>\n",
       "      <th>4</th>\n",
       "      <td>0.304520</td>\n",
       "      <td>0.897091</td>\n",
       "      <td>39.182774</td>\n",
       "      <td>0.924382</td>\n",
       "      <td>0.00100</td>\n",
       "    </tr>\n",
       "    <tr>\n",
       "      <th>5</th>\n",
       "      <td>0.260698</td>\n",
       "      <td>0.912717</td>\n",
       "      <td>53.383945</td>\n",
       "      <td>0.916940</td>\n",
       "      <td>0.00100</td>\n",
       "    </tr>\n",
       "    <tr>\n",
       "      <th>6</th>\n",
       "      <td>0.228659</td>\n",
       "      <td>0.923655</td>\n",
       "      <td>69.562996</td>\n",
       "      <td>0.899077</td>\n",
       "      <td>0.00100</td>\n",
       "    </tr>\n",
       "    <tr>\n",
       "      <th>7</th>\n",
       "      <td>0.212857</td>\n",
       "      <td>0.930352</td>\n",
       "      <td>52.517803</td>\n",
       "      <td>0.927359</td>\n",
       "      <td>0.00100</td>\n",
       "    </tr>\n",
       "    <tr>\n",
       "      <th>8</th>\n",
       "      <td>0.196197</td>\n",
       "      <td>0.934147</td>\n",
       "      <td>53.251804</td>\n",
       "      <td>0.914856</td>\n",
       "      <td>0.00100</td>\n",
       "    </tr>\n",
       "    <tr>\n",
       "      <th>9</th>\n",
       "      <td>0.171200</td>\n",
       "      <td>0.942034</td>\n",
       "      <td>54.273026</td>\n",
       "      <td>0.921405</td>\n",
       "      <td>0.00100</td>\n",
       "    </tr>\n",
       "    <tr>\n",
       "      <th>10</th>\n",
       "      <td>0.159661</td>\n",
       "      <td>0.947541</td>\n",
       "      <td>55.498371</td>\n",
       "      <td>0.933313</td>\n",
       "      <td>0.00100</td>\n",
       "    </tr>\n",
       "    <tr>\n",
       "      <th>11</th>\n",
       "      <td>0.149064</td>\n",
       "      <td>0.949252</td>\n",
       "      <td>50.317066</td>\n",
       "      <td>0.935993</td>\n",
       "      <td>0.00100</td>\n",
       "    </tr>\n",
       "    <tr>\n",
       "      <th>12</th>\n",
       "      <td>0.134294</td>\n",
       "      <td>0.955279</td>\n",
       "      <td>56.966660</td>\n",
       "      <td>0.928550</td>\n",
       "      <td>0.00100</td>\n",
       "    </tr>\n",
       "    <tr>\n",
       "      <th>13</th>\n",
       "      <td>0.129573</td>\n",
       "      <td>0.956247</td>\n",
       "      <td>47.403416</td>\n",
       "      <td>0.938077</td>\n",
       "      <td>0.00100</td>\n",
       "    </tr>\n",
       "    <tr>\n",
       "      <th>14</th>\n",
       "      <td>0.118704</td>\n",
       "      <td>0.961158</td>\n",
       "      <td>68.743408</td>\n",
       "      <td>0.918726</td>\n",
       "      <td>0.00100</td>\n",
       "    </tr>\n",
       "    <tr>\n",
       "      <th>15</th>\n",
       "      <td>0.067352</td>\n",
       "      <td>0.978272</td>\n",
       "      <td>43.539036</td>\n",
       "      <td>0.953855</td>\n",
       "      <td>0.00010</td>\n",
       "    </tr>\n",
       "    <tr>\n",
       "      <th>16</th>\n",
       "      <td>0.053558</td>\n",
       "      <td>0.981844</td>\n",
       "      <td>45.593361</td>\n",
       "      <td>0.954748</td>\n",
       "      <td>0.00010</td>\n",
       "    </tr>\n",
       "    <tr>\n",
       "      <th>17</th>\n",
       "      <td>0.047866</td>\n",
       "      <td>0.984895</td>\n",
       "      <td>45.953358</td>\n",
       "      <td>0.951176</td>\n",
       "      <td>0.00010</td>\n",
       "    </tr>\n",
       "    <tr>\n",
       "      <th>18</th>\n",
       "      <td>0.041911</td>\n",
       "      <td>0.986904</td>\n",
       "      <td>46.086651</td>\n",
       "      <td>0.956237</td>\n",
       "      <td>0.00010</td>\n",
       "    </tr>\n",
       "    <tr>\n",
       "      <th>19</th>\n",
       "      <td>0.038896</td>\n",
       "      <td>0.988392</td>\n",
       "      <td>45.295727</td>\n",
       "      <td>0.957428</td>\n",
       "      <td>0.00010</td>\n",
       "    </tr>\n",
       "    <tr>\n",
       "      <th>20</th>\n",
       "      <td>0.037450</td>\n",
       "      <td>0.987053</td>\n",
       "      <td>41.470657</td>\n",
       "      <td>0.961893</td>\n",
       "      <td>0.00010</td>\n",
       "    </tr>\n",
       "    <tr>\n",
       "      <th>21</th>\n",
       "      <td>0.037066</td>\n",
       "      <td>0.988169</td>\n",
       "      <td>44.113747</td>\n",
       "      <td>0.958321</td>\n",
       "      <td>0.00010</td>\n",
       "    </tr>\n",
       "    <tr>\n",
       "      <th>22</th>\n",
       "      <td>0.031841</td>\n",
       "      <td>0.988838</td>\n",
       "      <td>44.545601</td>\n",
       "      <td>0.960703</td>\n",
       "      <td>0.00010</td>\n",
       "    </tr>\n",
       "    <tr>\n",
       "      <th>23</th>\n",
       "      <td>0.033834</td>\n",
       "      <td>0.989136</td>\n",
       "      <td>46.152214</td>\n",
       "      <td>0.955939</td>\n",
       "      <td>0.00010</td>\n",
       "    </tr>\n",
       "    <tr>\n",
       "      <th>24</th>\n",
       "      <td>0.028888</td>\n",
       "      <td>0.990996</td>\n",
       "      <td>47.588730</td>\n",
       "      <td>0.959809</td>\n",
       "      <td>0.00010</td>\n",
       "    </tr>\n",
       "    <tr>\n",
       "      <th>25</th>\n",
       "      <td>0.024683</td>\n",
       "      <td>0.992633</td>\n",
       "      <td>48.797771</td>\n",
       "      <td>0.959512</td>\n",
       "      <td>0.00001</td>\n",
       "    </tr>\n",
       "    <tr>\n",
       "      <th>26</th>\n",
       "      <td>0.024679</td>\n",
       "      <td>0.991889</td>\n",
       "      <td>46.720409</td>\n",
       "      <td>0.960405</td>\n",
       "      <td>0.00001</td>\n",
       "    </tr>\n",
       "    <tr>\n",
       "      <th>27</th>\n",
       "      <td>0.022991</td>\n",
       "      <td>0.993154</td>\n",
       "      <td>47.884441</td>\n",
       "      <td>0.959214</td>\n",
       "      <td>0.00001</td>\n",
       "    </tr>\n",
       "    <tr>\n",
       "      <th>28</th>\n",
       "      <td>0.025738</td>\n",
       "      <td>0.991145</td>\n",
       "      <td>48.004875</td>\n",
       "      <td>0.959512</td>\n",
       "      <td>0.00001</td>\n",
       "    </tr>\n",
       "    <tr>\n",
       "      <th>29</th>\n",
       "      <td>0.026224</td>\n",
       "      <td>0.992038</td>\n",
       "      <td>46.682835</td>\n",
       "      <td>0.959809</td>\n",
       "      <td>0.00001</td>\n",
       "    </tr>\n",
       "  </tbody>\n",
       "</table>\n",
       "</div>"
      ],
      "text/plain": [
       "        loss  accuracy   val_loss  val_accuracy       lr\n",
       "0   1.612617  0.469306  84.097404      0.742483  0.00100\n",
       "1   0.706016  0.751395  63.678566      0.854123  0.00100\n",
       "2   0.482103  0.833544  61.719627      0.886871  0.00100\n",
       "3   0.369718  0.871419  80.631668      0.860673  0.00100\n",
       "4   0.304520  0.897091  39.182774      0.924382  0.00100\n",
       "5   0.260698  0.912717  53.383945      0.916940  0.00100\n",
       "6   0.228659  0.923655  69.562996      0.899077  0.00100\n",
       "7   0.212857  0.930352  52.517803      0.927359  0.00100\n",
       "8   0.196197  0.934147  53.251804      0.914856  0.00100\n",
       "9   0.171200  0.942034  54.273026      0.921405  0.00100\n",
       "10  0.159661  0.947541  55.498371      0.933313  0.00100\n",
       "11  0.149064  0.949252  50.317066      0.935993  0.00100\n",
       "12  0.134294  0.955279  56.966660      0.928550  0.00100\n",
       "13  0.129573  0.956247  47.403416      0.938077  0.00100\n",
       "14  0.118704  0.961158  68.743408      0.918726  0.00100\n",
       "15  0.067352  0.978272  43.539036      0.953855  0.00010\n",
       "16  0.053558  0.981844  45.593361      0.954748  0.00010\n",
       "17  0.047866  0.984895  45.953358      0.951176  0.00010\n",
       "18  0.041911  0.986904  46.086651      0.956237  0.00010\n",
       "19  0.038896  0.988392  45.295727      0.957428  0.00010\n",
       "20  0.037450  0.987053  41.470657      0.961893  0.00010\n",
       "21  0.037066  0.988169  44.113747      0.958321  0.00010\n",
       "22  0.031841  0.988838  44.545601      0.960703  0.00010\n",
       "23  0.033834  0.989136  46.152214      0.955939  0.00010\n",
       "24  0.028888  0.990996  47.588730      0.959809  0.00010\n",
       "25  0.024683  0.992633  48.797771      0.959512  0.00001\n",
       "26  0.024679  0.991889  46.720409      0.960405  0.00001\n",
       "27  0.022991  0.993154  47.884441      0.959214  0.00001\n",
       "28  0.025738  0.991145  48.004875      0.959512  0.00001\n",
       "29  0.026224  0.992038  46.682835      0.959809  0.00001"
      ]
     },
     "execution_count": 20,
     "metadata": {},
     "output_type": "execute_result"
    }
   ],
   "source": [
    "losses"
   ]
  },
  {
   "cell_type": "code",
   "execution_count": 21,
   "id": "4766cbb1",
   "metadata": {
    "execution": {
     "iopub.execute_input": "2022-10-23T18:54:49.108011Z",
     "iopub.status.busy": "2022-10-23T18:54:49.107636Z",
     "iopub.status.idle": "2022-10-23T18:54:49.383373Z",
     "shell.execute_reply": "2022-10-23T18:54:49.382343Z"
    },
    "papermill": {
     "duration": 0.425126,
     "end_time": "2022-10-23T18:54:49.385562",
     "exception": false,
     "start_time": "2022-10-23T18:54:48.960436",
     "status": "completed"
    },
    "tags": []
   },
   "outputs": [
    {
     "data": {
      "text/plain": [
       "<AxesSubplot:>"
      ]
     },
     "execution_count": 21,
     "metadata": {},
     "output_type": "execute_result"
    },
    {
     "data": {
      "image/png": "[encoded data removed]",
      "text/plain": [
       "<Figure size 432x288 with 1 Axes>"
      ]
     },
     "metadata": {
      "needs_background": "light"
     },
     "output_type": "display_data"
    }
   ],
   "source": [
    "losses[['loss','val_loss']].plot()"
   ]
  },
  {
   "cell_type": "code",
   "execution_count": 22,
   "id": "abe192c1",
   "metadata": {
    "execution": {
     "iopub.execute_input": "2022-10-23T18:54:49.681341Z",
     "iopub.status.busy": "2022-10-23T18:54:49.679344Z",
     "iopub.status.idle": "2022-10-23T18:54:49.912510Z",
     "shell.execute_reply": "2022-10-23T18:54:49.911590Z"
    },
    "papermill": {
     "duration": 0.382222,
     "end_time": "2022-10-23T18:54:49.914894",
     "exception": false,
     "start_time": "2022-10-23T18:54:49.532672",
     "status": "completed"
    },
    "tags": []
   },
   "outputs": [
    {
     "data": {
      "text/plain": [
       "<AxesSubplot:>"
      ]
     },
     "execution_count": 22,
     "metadata": {},
     "output_type": "execute_result"
    },
    {
     "data": {
      "image/png": "[encoded data removed]",
      "text/plain": [
       "<Figure size 432x288 with 1 Axes>"
      ]
     },
     "metadata": {
      "needs_background": "light"
     },
     "output_type": "display_data"
    }
   ],
   "source": [
    "losses[['accuracy','val_accuracy']].plot()"
   ]
  },
  {
   "cell_type": "code",
   "execution_count": 23,
   "id": "88cf175a",
   "metadata": {
    "execution": {
     "iopub.execute_input": "2022-10-23T18:54:50.211799Z",
     "iopub.status.busy": "2022-10-23T18:54:50.211450Z",
     "iopub.status.idle": "2022-10-23T18:54:50.456464Z",
     "shell.execute_reply": "2022-10-23T18:54:50.455548Z"
    },
    "papermill": {
     "duration": 0.394553,
     "end_time": "2022-10-23T18:54:50.458517",
     "exception": false,
     "start_time": "2022-10-23T18:54:50.063964",
     "status": "completed"
    },
    "tags": []
   },
   "outputs": [
    {
     "data": {
      "text/plain": [
       "<AxesSubplot:>"
      ]
     },
     "execution_count": 23,
     "metadata": {},
     "output_type": "execute_result"
    },
    {
     "data": {
      "image/png": "[encoded data removed]",
      "text/plain": [
       "<Figure size 432x288 with 1 Axes>"
      ]
     },
     "metadata": {
      "needs_background": "light"
     },
     "output_type": "display_data"
    }
   ],
   "source": [
    "losses.plot()"
   ]
  },
  {
   "cell_type": "code",
   "execution_count": 24,
   "id": "9b8869d0",
   "metadata": {
    "execution": {
     "iopub.execute_input": "2022-10-23T18:54:50.758933Z",
     "iopub.status.busy": "2022-10-23T18:54:50.758591Z",
     "iopub.status.idle": "2022-10-23T18:54:51.134785Z",
     "shell.execute_reply": "2022-10-23T18:54:51.133762Z"
    },
    "papermill": {
     "duration": 0.527438,
     "end_time": "2022-10-23T18:54:51.136790",
     "exception": false,
     "start_time": "2022-10-23T18:54:50.609352",
     "status": "completed"
    },
    "tags": []
   },
   "outputs": [
    {
     "name": "stdout",
     "output_type": "stream",
     "text": [
      "105/105 [==============================] - 0s 3ms/step - loss: 46.6828 - accuracy: 0.9598\n"
     ]
    },
    {
     "data": {
      "text/plain": [
       "[46.68283462524414, 0.9598094820976257]"
      ]
     },
     "execution_count": 24,
     "metadata": {},
     "output_type": "execute_result"
    }
   ],
   "source": [
    "model.evaluate(X_test,y_test)"
   ]
  },
  {
   "cell_type": "code",
   "execution_count": null,
   "id": "668b543b",
   "metadata": {
    "papermill": {
     "duration": 0.146079,
     "end_time": "2022-10-23T18:54:51.430153",
     "exception": false,
     "start_time": "2022-10-23T18:54:51.284074",
     "status": "completed"
    },
    "tags": []
   },
   "outputs": [],
   "source": []
  }
 ],
 "metadata": {
  "kernelspec": {
   "display_name": "Python 3",
   "language": "python",
   "name": "python3"
  },
  "language_info": {
   "codemirror_mode": {
    "name": "ipython",
    "version": 3
   },
   "file_extension": ".py",
   "mimetype": "text/x-python",
   "name": "python",
   "nbconvert_exporter": "python",
   "pygments_lexer": "ipython3",
   "version": "3.7.12"
  },
  "papermill": {
   "default_parameters": {},
   "duration": 206.593662,
   "end_time": "2022-10-23T18:54:54.759327",
   "environment_variables": {},
   "exception": null,
   "input_path": "__notebook__.ipynb",
   "output_path": "__notebook__.ipynb",
   "parameters": {},
   "start_time": "2022-10-23T18:51:28.165665",
   "version": "2.3.4"
  }
 },
 "nbformat": 4,
 "nbformat_minor": 5
}
